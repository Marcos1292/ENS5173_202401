{
 "cells": [
  {
   "cell_type": "markdown",
   "id": "7484b705-d731-404c-9725-3442aa6c06bf",
   "metadata": {},
   "source": [
    "# caracterização metereologica da area de estudo"
   ]
  },
  {
   "cell_type": "code",
   "execution_count": 4,
   "id": "1946d2d3-e154-450c-8d57-b0edf33c53ae",
   "metadata": {},
   "outputs": [
    {
     "name": "stdout",
     "output_type": "stream",
     "text": [
      "C:\\Users\\marcos perrude\\Downloads\\poluicao\\ENS5173_202401\n",
      "C:\\Users\\marcos perrude\\Downloads\\poluicao\\ENS5173_202401\\inputs\\meteosuperficie\n"
     ]
    }
   ],
   "source": [
    "#selecionar arquivo para analise\n",
    "import os\n",
    "rootPath= os.getcwd()\n",
    "print(rootPath)\n",
    "\n",
    "\n",
    "#definindo os diretorios com os arquivos metar\n",
    "metSuperficiePath = rootPath + '\\\\inputs\\\\meteosuperficie'\n",
    "print (metSuperficiePath) #comprovando que existe\n",
    "\n",
    "#listando os arquivos dentro do diretorio\n",
    "files = os.listdir(metSuperficiePath)"
   ]
  },
  {
   "cell_type": "code",
   "execution_count": null,
   "id": "ee381a32-96ce-49fa-8918-3eab7cc66d8c",
   "metadata": {},
   "outputs": [],
   "source": []
  }
 ],
 "metadata": {
  "kernelspec": {
   "display_name": "Python 3 (ipykernel)",
   "language": "python",
   "name": "python3"
  },
  "language_info": {
   "codemirror_mode": {
    "name": "ipython",
    "version": 3
   },
   "file_extension": ".py",
   "mimetype": "text/x-python",
   "name": "python",
   "nbconvert_exporter": "python",
   "pygments_lexer": "ipython3",
   "version": "3.11.8"
  }
 },
 "nbformat": 4,
 "nbformat_minor": 5
}
