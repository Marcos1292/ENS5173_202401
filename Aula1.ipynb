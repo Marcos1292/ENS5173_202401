{
 "cells": [
  {
   "cell_type": "markdown",
   "id": "c0524b90-7ea5-4469-8f6c-ca3bc5c59a66",
   "metadata": {},
   "source": [
    "# aula 03\\04\\2024 - comandos básicos no Python"
   ]
  },
  {
   "cell_type": "markdown",
   "id": "16b04abd-2a79-4c0a-a7df-f08cbeb4dcc5",
   "metadata": {},
   "source": [
    "Nesta aula aprenderemos a importar pacotes e os tipos de variáveis\\\n",
    "Desenvolvedor: Marcos Perrude"
   ]
  },
  {
   "cell_type": "markdown",
   "id": "7a32fb83-6764-4e37-8e62-513a2727f016",
   "metadata": {},
   "source": [
    "## Tipos de variáveis"
   ]
  },
  {
   "cell_type": "code",
   "execution_count": 9,
   "id": "347ed6a8-3653-44e1-b858-209e33793cbd",
   "metadata": {},
   "outputs": [
    {
     "name": "stdout",
     "output_type": "stream",
     "text": [
      "a = 1\n",
      "<class 'int'>\n"
     ]
    }
   ],
   "source": [
    "#Criando variáveis inteiras\n",
    "a = 1\n",
    "print('a = '+ str(a))\n",
    "print(type(a))"
   ]
  },
  {
   "cell_type": "code",
   "execution_count": 10,
   "id": "67d2d277-5d60-4707-9378-7e37f8f99538",
   "metadata": {},
   "outputs": [
    {
     "name": "stdout",
     "output_type": "stream",
     "text": [
      "salve o Corínthians\n",
      "<class 'str'>\n"
     ]
    }
   ],
   "source": [
    "# Criando variaveis string\n",
    "b='salve o '\n",
    "c='Corínthians'\n",
    "print(b+c)\n",
    "print(type(b))"
   ]
  },
  {
   "cell_type": "code",
   "execution_count": 13,
   "id": "3fddd432-129d-4e20-8ba4-578077148e91",
   "metadata": {},
   "outputs": [
    {
     "name": "stdout",
     "output_type": "stream",
     "text": [
      "666.666\n",
      "<class 'float'>\n"
     ]
    }
   ],
   "source": [
    "#Criando variáveis float/double precision\n",
    "d= 666.666\n",
    "print(d)\n",
    "print(type(d))"
   ]
  }
 ],
 "metadata": {
  "kernelspec": {
   "display_name": "Python 3 (ipykernel)",
   "language": "python",
   "name": "python3"
  },
  "language_info": {
   "codemirror_mode": {
    "name": "ipython",
    "version": 3
   },
   "file_extension": ".py",
   "mimetype": "text/x-python",
   "name": "python",
   "nbconvert_exporter": "python",
   "pygments_lexer": "ipython3",
   "version": "3.11.8"
  }
 },
 "nbformat": 4,
 "nbformat_minor": 5
}
