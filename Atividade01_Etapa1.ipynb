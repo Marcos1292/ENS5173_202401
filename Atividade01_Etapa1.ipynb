{
 "cells": [
  {
   "cell_type": "code",
   "execution_count": 3,
   "id": "72a93091-a6f8-4771-9956-168a355b6d38",
   "metadata": {},
   "outputs": [
    {
     "name": "stdout",
     "output_type": "stream",
     "text": [
      "Valor de a = 1\n"
     ]
    },
    {
     "data": {
      "text/plain": [
       "int"
      ]
     },
     "execution_count": 3,
     "metadata": {},
     "output_type": "execute_result"
    }
   ],
   "source": [
    "#Variavel inteira\n",
    "a = 1\n",
    "print('Valor de a = '+str(a))\n",
    "type(a)"
   ]
  },
  {
   "cell_type": "code",
   "execution_count": 4,
   "id": "5fb9554a-876f-4c67-8f4c-e277abaf112f",
   "metadata": {},
   "outputs": [
    {
     "name": "stdout",
     "output_type": "stream",
     "text": [
      "1.0\n"
     ]
    },
    {
     "data": {
      "text/plain": [
       "float"
      ]
     },
     "execution_count": 4,
     "metadata": {},
     "output_type": "execute_result"
    }
   ],
   "source": [
    "# Variável dupla precisão\n",
    "b = 1.0\n",
    "print(b)\n",
    "type(b)"
   ]
  },
  {
   "cell_type": "code",
   "execution_count": 5,
   "id": "662d18df-09ea-408c-97b7-8798b44fb944",
   "metadata": {},
   "outputs": [
    {
     "name": "stdout",
     "output_type": "stream",
     "text": [
      "1\n"
     ]
    },
    {
     "data": {
      "text/plain": [
       "int"
      ]
     },
     "execution_count": 5,
     "metadata": {},
     "output_type": "execute_result"
    }
   ],
   "source": [
    "# Converter float para int\n",
    "c = int(b)\n",
    "print(c)\n",
    "type(c)"
   ]
  },
  {
   "cell_type": "code",
   "execution_count": 6,
   "id": "69b90341-7365-42ac-a016-acadfd6b0b3c",
   "metadata": {},
   "outputs": [
    {
     "name": "stdout",
     "output_type": "stream",
     "text": [
      "nan\n"
     ]
    },
    {
     "data": {
      "text/plain": [
       "float"
      ]
     },
     "execution_count": 6,
     "metadata": {},
     "output_type": "execute_result"
    }
   ],
   "source": [
    "# Delacrando nan\n",
    "import numpy as np\n",
    "d = np.nan\n",
    "print(d)\n",
    "type(d)"
   ]
  },
  {
   "cell_type": "code",
   "execution_count": 7,
   "id": "cebbcabd-818d-4fb0-b217-dd5e22d0e71a",
   "metadata": {},
   "outputs": [
    {
     "name": "stdout",
     "output_type": "stream",
     "text": [
      "nan\n",
      "nan\n",
      "1.0\n"
     ]
    }
   ],
   "source": [
    "# Operação com NaN\n",
    "e = d*1\n",
    "print(e)\n",
    "e = d+1\n",
    "print(e)\n",
    "e = np.nansum([d,1])\n",
    "print(e)"
   ]
  },
  {
   "cell_type": "code",
   "execution_count": 8,
   "id": "d1085794-7e06-467c-a087-cd3f5e2bb68b",
   "metadata": {},
   "outputs": [
    {
     "name": "stdout",
     "output_type": "stream",
     "text": [
      "Fábio\n",
      "Gabriel\n",
      "FábioGabriel\n",
      "Fábio Gabriel\n"
     ]
    }
   ],
   "source": [
    "# Declaração de variável texto\n",
    "f = 'Fábio'\n",
    "g = \"Gabriel\"\n",
    "print(f)\n",
    "print(g)\n",
    "print(f+g)\n",
    "print(f+' '+g)"
   ]
  },
  {
   "cell_type": "code",
   "execution_count": 9,
   "id": "781e8e80-8f0d-43fe-86a8-64503eefba4f",
   "metadata": {},
   "outputs": [
    {
     "data": {
      "text/plain": [
       "True"
      ]
     },
     "execution_count": 9,
     "metadata": {},
     "output_type": "execute_result"
    }
   ],
   "source": [
    "a == 1"
   ]
  },
  {
   "cell_type": "code",
   "execution_count": 10,
   "id": "bcde7f43-dd5f-468e-91be-0fc367a6ec72",
   "metadata": {},
   "outputs": [
    {
     "name": "stdout",
     "output_type": "stream",
     "text": [
      "True\n"
     ]
    },
    {
     "data": {
      "text/plain": [
       "bool"
      ]
     },
     "execution_count": 10,
     "metadata": {},
     "output_type": "execute_result"
    }
   ],
   "source": [
    "h = (a==1)\n",
    "print(h)\n",
    "type(h)"
   ]
  },
  {
   "cell_type": "code",
   "execution_count": 13,
   "id": "4bc67ac2-da0d-4fbe-babd-3db28603f67e",
   "metadata": {},
   "outputs": [
    {
     "data": {
      "text/plain": [
       "bool"
      ]
     },
     "execution_count": 13,
     "metadata": {},
     "output_type": "execute_result"
    }
   ],
   "source": [
    "i = True\n",
    "type(i)"
   ]
  },
  {
   "cell_type": "code",
   "execution_count": 14,
   "id": "1dcfdd8c-8bc1-432a-8804-45e164af2a44",
   "metadata": {},
   "outputs": [
    {
     "data": {
      "text/plain": [
       "str"
      ]
     },
     "execution_count": 14,
     "metadata": {},
     "output_type": "execute_result"
    }
   ],
   "source": [
    "ii = 'true'\n",
    "type (ii)"
   ]
  },
  {
   "cell_type": "code",
   "execution_count": 15,
   "id": "97e62258-4777-4e17-8725-9fc80ae76788",
   "metadata": {},
   "outputs": [
    {
     "data": {
      "text/plain": [
       "True"
      ]
     },
     "execution_count": 15,
     "metadata": {},
     "output_type": "execute_result"
    }
   ],
   "source": [
    "# Operação ==\n",
    "a==b"
   ]
  },
  {
   "cell_type": "code",
   "execution_count": 16,
   "id": "da03ec2b-0961-4cf3-8a1c-5da200a418b2",
   "metadata": {},
   "outputs": [
    {
     "data": {
      "text/plain": [
       "False"
      ]
     },
     "execution_count": 16,
     "metadata": {},
     "output_type": "execute_result"
    }
   ],
   "source": [
    " # Operação ><\n",
    "a>b"
   ]
  },
  {
   "cell_type": "code",
   "execution_count": 17,
   "id": "aa58fdc3-c83a-40d4-86c1-22b3c38394d1",
   "metadata": {},
   "outputs": [
    {
     "data": {
      "text/plain": [
       "False"
      ]
     },
     "execution_count": 17,
     "metadata": {},
     "output_type": "execute_result"
    }
   ],
   "source": [
    "# Operação !=\n",
    "a!=b"
   ]
  },
  {
   "cell_type": "code",
   "execution_count": 18,
   "id": "37bffd40-ff11-493b-8cf1-bad97ea0000a",
   "metadata": {},
   "outputs": [
    {
     "data": {
      "text/plain": [
       "True"
      ]
     },
     "execution_count": 18,
     "metadata": {},
     "output_type": "execute_result"
    }
   ],
   "source": [
    "# Operação >= ou <=\n",
    "a>=b"
   ]
  },
  {
   "cell_type": "code",
   "execution_count": 19,
   "id": "ec8aa305-293b-499f-8b1b-87eb00cc7aa1",
   "metadata": {},
   "outputs": [
    {
     "data": {
      "text/plain": [
       "2.0"
      ]
     },
     "execution_count": 19,
     "metadata": {},
     "output_type": "execute_result"
    }
   ],
   "source": [
    "# Soma \n",
    "a+b"
   ]
  },
  {
   "cell_type": "code",
   "execution_count": 20,
   "id": "cc4be8f2-1696-46c8-bf9e-9b0b641c2359",
   "metadata": {},
   "outputs": [
    {
     "name": "stdout",
     "output_type": "stream",
     "text": [
      "Não use l como nome de variável\n",
      "1.0\n"
     ]
    }
   ],
   "source": [
    "# Multiplicação\n",
    "l = a*b # Não use l como variável\n",
    "print(\"Não use l como nome de variável\")\n",
    "j = a*b\n",
    "print(j)"
   ]
  },
  {
   "cell_type": "code",
   "execution_count": 21,
   "id": "08704680-31ac-49e0-8afc-e1fe19ad28d2",
   "metadata": {},
   "outputs": [
    {
     "data": {
      "text/plain": [
       "1.0"
      ]
     },
     "execution_count": 21,
     "metadata": {},
     "output_type": "execute_result"
    }
   ],
   "source": [
    "# Divisão\n",
    "a/b"
   ]
  },
  {
   "cell_type": "code",
   "execution_count": 22,
   "id": "d72baa72-ee54-4845-81fa-b0f72b0a8a3c",
   "metadata": {},
   "outputs": [
    {
     "data": {
      "text/plain": [
       "25"
      ]
     },
     "execution_count": 22,
     "metadata": {},
     "output_type": "execute_result"
    }
   ],
   "source": [
    "# Potencia\n",
    "5**2"
   ]
  },
  {
   "cell_type": "code",
   "execution_count": 23,
   "id": "2bb0dc1d-ae3b-4d4b-b905-6dddf0df5966",
   "metadata": {},
   "outputs": [
    {
     "data": {
      "text/plain": [
       "22026.465794806718"
      ]
     },
     "execution_count": 23,
     "metadata": {},
     "output_type": "execute_result"
    }
   ],
   "source": [
    "#Operações matemáticas com a biblioteca math\n",
    "import math\n",
    "\n",
    "math.exp(10)"
   ]
  },
  {
   "cell_type": "code",
   "execution_count": 24,
   "id": "57754d88-3d44-4148-97d9-b9e720f1728e",
   "metadata": {},
   "outputs": [
    {
     "data": {
      "text/plain": [
       "1.0"
      ]
     },
     "execution_count": 24,
     "metadata": {},
     "output_type": "execute_result"
    }
   ],
   "source": [
    "math.exp(0)"
   ]
  },
  {
   "cell_type": "code",
   "execution_count": 25,
   "id": "b9a05288-d5ff-473f-ad1e-e683f8543918",
   "metadata": {},
   "outputs": [
    {
     "data": {
      "text/plain": [
       "2.718281828459045"
      ]
     },
     "execution_count": 25,
     "metadata": {},
     "output_type": "execute_result"
    }
   ],
   "source": [
    "math.exp(a)"
   ]
  },
  {
   "cell_type": "code",
   "execution_count": 26,
   "id": "a86e717b-9698-4430-baec-4b8911af978c",
   "metadata": {},
   "outputs": [
    {
     "data": {
      "text/plain": [
       "4.5399929762484854e-05"
      ]
     },
     "execution_count": 26,
     "metadata": {},
     "output_type": "execute_result"
    }
   ],
   "source": [
    "math.exp(-10)"
   ]
  },
  {
   "cell_type": "code",
   "execution_count": 27,
   "id": "f8c13bd1-d286-408f-bc33-217aa4779a88",
   "metadata": {},
   "outputs": [
    {
     "data": {
      "text/plain": [
       "0.0"
      ]
     },
     "execution_count": 27,
     "metadata": {},
     "output_type": "execute_result"
    }
   ],
   "source": [
    "import math as mt\n",
    "mt.log(c)"
   ]
  },
  {
   "cell_type": "code",
   "execution_count": 28,
   "id": "fc6df4c2-94b2-4e16-931d-913295a226c5",
   "metadata": {},
   "outputs": [
    {
     "data": {
      "text/plain": [
       "2.0"
      ]
     },
     "execution_count": 28,
     "metadata": {},
     "output_type": "execute_result"
    }
   ],
   "source": [
    "mt.log10(100)"
   ]
  },
  {
   "cell_type": "code",
   "execution_count": 31,
   "id": "59b4fd23-3b94-4128-b56e-303fe4881372",
   "metadata": {},
   "outputs": [
    {
     "name": "stdout",
     "output_type": "stream",
     "text": [
      "[1, 2, 3]\n"
     ]
    }
   ],
   "source": [
    "myFirstList = [1,2,3]\n",
    "print(myFirstList)"
   ]
  },
  {
   "cell_type": "code",
   "execution_count": 32,
   "id": "1d1dd2d7-2b12-4f59-9f7e-4141acaea4a9",
   "metadata": {},
   "outputs": [
    {
     "name": "stdout",
     "output_type": "stream",
     "text": [
      "1\n",
      "3\n"
     ]
    }
   ],
   "source": [
    "# Acessando valores da lista pelo index\n",
    "print(myFirstList[0])\n",
    "print(myFirstList[2])"
   ]
  },
  {
   "cell_type": "code",
   "execution_count": 33,
   "id": "1cc0d9ab-8f18-4c9e-8e5d-8d30ddf264df",
   "metadata": {},
   "outputs": [
    {
     "data": {
      "text/plain": [
       "False"
      ]
     },
     "execution_count": 33,
     "metadata": {},
     "output_type": "execute_result"
    }
   ],
   "source": [
    "myFirstList==a"
   ]
  },
  {
   "cell_type": "code",
   "execution_count": 34,
   "id": "e07901b8-7003-4687-9aa9-bab41205e2ca",
   "metadata": {},
   "outputs": [
    {
     "data": {
      "text/plain": [
       "True"
      ]
     },
     "execution_count": 34,
     "metadata": {},
     "output_type": "execute_result"
    }
   ],
   "source": [
    "myFirstList[0]==a"
   ]
  },
  {
   "cell_type": "code",
   "execution_count": 35,
   "id": "f13c94a8-8ede-4687-baf1-2cc12a2250ed",
   "metadata": {},
   "outputs": [
    {
     "name": "stdout",
     "output_type": "stream",
     "text": [
      "[1, 1, 'c']\n"
     ]
    }
   ],
   "source": [
    "mySeclist = [1,a,'c']\n",
    "print(mySeclist)\n"
   ]
  },
  {
   "cell_type": "code",
   "execution_count": 36,
   "id": "d72e1d43-5e6b-4fc0-887b-2819a156cdf7",
   "metadata": {},
   "outputs": [
    {
     "data": {
      "text/plain": [
       "list"
      ]
     },
     "execution_count": 36,
     "metadata": {},
     "output_type": "execute_result"
    }
   ],
   "source": [
    "type(mySeclist)"
   ]
  },
  {
   "cell_type": "code",
   "execution_count": 37,
   "id": "c37f2ceb-db44-44eb-ba17-c99bed794759",
   "metadata": {},
   "outputs": [
    {
     "data": {
      "text/plain": [
       "str"
      ]
     },
     "execution_count": 37,
     "metadata": {},
     "output_type": "execute_result"
    }
   ],
   "source": [
    "type(mySeclist[2])"
   ]
  },
  {
   "cell_type": "code",
   "execution_count": 38,
   "id": "0cedade4-f242-4b5a-8b29-f6319e8ec058",
   "metadata": {},
   "outputs": [
    {
     "data": {
      "text/plain": [
       "int"
      ]
     },
     "execution_count": 38,
     "metadata": {},
     "output_type": "execute_result"
    }
   ],
   "source": [
    "type(mySeclist[1])"
   ]
  },
  {
   "cell_type": "code",
   "execution_count": 42,
   "id": "4deb2d41-92d7-41b2-bd0e-c4596214ad93",
   "metadata": {},
   "outputs": [
    {
     "name": "stdout",
     "output_type": "stream",
     "text": [
      "C:\\Users\\marcos perrude\\Downloads\\poluicao\\ENS5173_202401\n"
     ]
    }
   ],
   "source": [
    "path =  r\"C:\\Users\\marcos perrude\\Downloads\\poluicao\\ENS5173_202401\"\n",
    "print(path)"
   ]
  },
  {
   "cell_type": "code",
   "execution_count": 43,
   "id": "944836b6-d7fa-46d8-82a0-59efd33b3f89",
   "metadata": {},
   "outputs": [
    {
     "data": {
      "text/plain": [
       "['.git', '.gitignore', 'Aula1.ipynb', 'inputs', 'README.md', 'scripts', 'venv']"
      ]
     },
     "execution_count": 43,
     "metadata": {},
     "output_type": "execute_result"
    }
   ],
   "source": [
    "import os\n",
    "# Listar arquivos na pasta\n",
    "os.listdir(path)"
   ]
  },
  {
   "cell_type": "code",
   "execution_count": 44,
   "id": "b97ecae4-0bb4-4d18-9a38-5f2a59c7b827",
   "metadata": {},
   "outputs": [
    {
     "data": {
      "text/plain": [
       "'.git'"
      ]
     },
     "execution_count": 44,
     "metadata": {},
     "output_type": "execute_result"
    }
   ],
   "source": [
    "# Selecionar primeiro arquivo listado\n",
    "os.listdir(path)[0]"
   ]
  },
  {
   "cell_type": "code",
   "execution_count": 45,
   "id": "ea0e3a58-d7bb-43d0-8998-4f16fd6a34d8",
   "metadata": {},
   "outputs": [
    {
     "data": {
      "text/plain": [
       "'C:\\\\Users\\\\marcos perrude\\\\Downloads\\\\poluicao\\\\ENS5173_202401/.git'"
      ]
     },
     "execution_count": 45,
     "metadata": {},
     "output_type": "execute_result"
    }
   ],
   "source": [
    "# Concatenando caminhos\n",
    "path+\"/\"+os.listdir(path)[0]"
   ]
  },
  {
   "cell_type": "code",
   "execution_count": 46,
   "id": "673a4e22-16b8-4feb-9da9-e2f2581a2e64",
   "metadata": {},
   "outputs": [
    {
     "data": {
      "text/plain": [
       "['COMMIT_EDITMSG',\n",
       " 'config',\n",
       " 'description',\n",
       " 'FETCH_HEAD',\n",
       " 'HEAD',\n",
       " 'hooks',\n",
       " 'index',\n",
       " 'info',\n",
       " 'logs',\n",
       " 'objects',\n",
       " 'packed-refs',\n",
       " 'refs']"
      ]
     },
     "execution_count": 46,
     "metadata": {},
     "output_type": "execute_result"
    }
   ],
   "source": [
    "# Listando caminho concatenado\n",
    "os.listdir(path+\"/\"+os.listdir(path)[0])"
   ]
  },
  {
   "cell_type": "code",
   "execution_count": 47,
   "id": "d6fae370-37e6-4098-a6aa-c94458e37d41",
   "metadata": {},
   "outputs": [
    {
     "data": {
      "text/plain": [
       "'C:\\\\Users\\\\marcos perrude\\\\Downloads\\\\poluicao\\\\ENS5173_202401\\\\venv'"
      ]
     },
     "execution_count": 47,
     "metadata": {},
     "output_type": "execute_result"
    }
   ],
   "source": [
    "# Diretório que estou trababalhando\n",
    "os.getcwd()"
   ]
  },
  {
   "cell_type": "code",
   "execution_count": 48,
   "id": "959123ff-de7c-4a08-a413-0412584daac2",
   "metadata": {},
   "outputs": [
    {
     "name": "stdout",
     "output_type": "stream",
     "text": [
      "Criando diretório C:\\Users\\marcos perrude\\Downloads\\poluicao\\ENS5173_202401\\venv/test\n"
     ]
    }
   ],
   "source": [
    "# Criando diretório\n",
    "new_path = os.getcwd()+'/test'\n",
    "\n",
    "if os.path.isdir(new_path):\n",
    "    print('diretório já existe')\n",
    "else:\n",
    "    print('Criando diretório '+new_path)\n",
    "    os.mkdir(new_path)"
   ]
  },
  {
   "cell_type": "code",
   "execution_count": 49,
   "id": "0a7649dd-632e-4153-a624-96a9f6e3de0c",
   "metadata": {},
   "outputs": [
    {
     "name": "stdout",
     "output_type": "stream",
     "text": [
      "Criando diretório C:\\Users\\marcos perrude\\Downloads\\poluicao\\ENS5173_202401\\venv/test2\n"
     ]
    }
   ],
   "source": [
    "# Criando diretório\n",
    "new_path = os.getcwd()+'/test2'\n",
    "\n",
    "if os.path.isdir(new_path):\n",
    "    print('diretório já existe')\n",
    "    # Criando um arquivo de texto\n",
    "    with open(new_path+\"/copy.txt\", \"w\") as file:\n",
    "        file.write(\"Your text goes here\")\n",
    "else:\n",
    "    print('Criando diretório '+new_path)\n",
    "    os.mkdir(new_path)\n",
    "    with open(new_path+\"/copy.txt\", \"w\") as file:\n",
    "        file.write(\"Your text goes here\")"
   ]
  },
  {
   "cell_type": "code",
   "execution_count": 50,
   "id": "2a10f381-252e-4681-b4f8-11ee5ae6386b",
   "metadata": {},
   "outputs": [
    {
     "data": {
      "text/plain": [
       "numpy.ndarray"
      ]
     },
     "execution_count": 50,
     "metadata": {},
     "output_type": "execute_result"
    }
   ],
   "source": [
    "import numpy as np\n",
    "# Criando uma variável numpy\n",
    "n = np.array(0)\n",
    "type(n)"
   ]
  },
  {
   "cell_type": "code",
   "execution_count": 51,
   "id": "4edf460c-b5b4-4bd4-b6ab-1d60a14b1fcd",
   "metadata": {},
   "outputs": [
    {
     "name": "stdout",
     "output_type": "stream",
     "text": [
      "[ 1  2  3 10 20 55]\n"
     ]
    }
   ],
   "source": [
    "# Criando uma variável numpy a partir de uma lista\n",
    "myThirdList=[1,2,3,10,20,55]\n",
    "n = np.array(myThirdList)\n",
    "print(n)"
   ]
  },
  {
   "cell_type": "code",
   "execution_count": 52,
   "id": "d8bd8351-bf6b-4d7e-a0f3-76e1388df337",
   "metadata": {},
   "outputs": [
    {
     "name": "stdout",
     "output_type": "stream",
     "text": [
      "[[0.96176441 0.36583817 0.51604599 0.09006722 0.81786202 0.53978924\n",
      "  0.85042899 0.55810944 0.19247733 0.15301085]\n",
      " [0.55961322 0.04910317 0.51235566 0.69856061 0.79719248 0.2097622\n",
      "  0.52307724 0.49104509 0.86786475 0.44537161]\n",
      " [0.20162502 0.89342647 0.49059658 0.62039629 0.51699208 0.22240954\n",
      "  0.45855876 0.84597048 0.8789759  0.04337537]\n",
      " [0.46248363 0.69975453 0.21366038 0.33264311 0.40764401 0.80798061\n",
      "  0.43993823 0.36391786 0.78708654 0.81667513]\n",
      " [0.90936779 0.56225694 0.0102411  0.31977055 0.9356896  0.60531717\n",
      "  0.10105409 0.3340171  0.97075637 0.5391646 ]\n",
      " [0.9946603  0.73413234 0.18438572 0.88170662 0.08218352 0.97094343\n",
      "  0.89441804 0.0369579  0.35088396 0.40653199]\n",
      " [0.60415987 0.66261908 0.97218568 0.66319143 0.82689076 0.76015456\n",
      "  0.60245002 0.07397205 0.87041514 0.47402771]\n",
      " [0.28474452 0.5183551  0.85861561 0.16410555 0.16135575 0.27624295\n",
      "  0.76254957 0.2285749  0.77155379 0.18149067]\n",
      " [0.42901203 0.55033696 0.22950066 0.23523643 0.49611693 0.63288703\n",
      "  0.26411499 0.84743865 0.80528693 0.26365765]\n",
      " [0.20752195 0.42927842 0.65693279 0.44024208 0.26722171 0.05884111\n",
      "  0.39407386 0.69939139 0.90671264 0.18134598]]\n",
      "(10, 10)\n"
     ]
    }
   ],
   "source": [
    "# Criando uma matriz de 10x10 de números aleatórios entre 0 e 1\n",
    "n = np.random.rand(10,10)\n",
    "print(n)\n",
    "# Dimensões da matrix\n",
    "print(n.shape)"
   ]
  },
  {
   "cell_type": "code",
   "execution_count": 53,
   "id": "fbb8218e-df38-492a-83a7-0cd3437e09d9",
   "metadata": {},
   "outputs": [
    {
     "data": {
      "text/plain": [
       "array([0.96176441, 0.36583817, 0.51604599, 0.09006722, 0.81786202,\n",
       "       0.53978924, 0.85042899, 0.55810944, 0.19247733, 0.15301085])"
      ]
     },
     "execution_count": 53,
     "metadata": {},
     "output_type": "execute_result"
    }
   ],
   "source": [
    "# Acessando valores da matriz\n",
    "n[0,:]"
   ]
  },
  {
   "cell_type": "code",
   "execution_count": 54,
   "id": "e1367942-bd3e-4231-b458-5608279ac8ab",
   "metadata": {},
   "outputs": [
    {
     "data": {
      "text/plain": [
       "array([[0.36583817, 0.51604599, 0.09006722, 0.81786202],\n",
       "       [0.04910317, 0.51235566, 0.69856061, 0.79719248],\n",
       "       [0.89342647, 0.49059658, 0.62039629, 0.51699208],\n",
       "       [0.69975453, 0.21366038, 0.33264311, 0.40764401],\n",
       "       [0.56225694, 0.0102411 , 0.31977055, 0.9356896 ],\n",
       "       [0.73413234, 0.18438572, 0.88170662, 0.08218352],\n",
       "       [0.66261908, 0.97218568, 0.66319143, 0.82689076],\n",
       "       [0.5183551 , 0.85861561, 0.16410555, 0.16135575],\n",
       "       [0.55033696, 0.22950066, 0.23523643, 0.49611693],\n",
       "       [0.42927842, 0.65693279, 0.44024208, 0.26722171]])"
      ]
     },
     "execution_count": 54,
     "metadata": {},
     "output_type": "execute_result"
    }
   ],
   "source": [
    "n[:,1:5]"
   ]
  },
  {
   "cell_type": "code",
   "execution_count": 55,
   "id": "e0f39c6d-824c-49cc-a2f3-1dfb464a6c36",
   "metadata": {},
   "outputs": [
    {
     "data": {
      "text/plain": [
       "array([0.36583817, 0.51604599, 0.09006722, 0.81786202])"
      ]
     },
     "execution_count": 55,
     "metadata": {},
     "output_type": "execute_result"
    }
   ],
   "source": [
    "n[0,1:5]"
   ]
  },
  {
   "cell_type": "code",
   "execution_count": 56,
   "id": "49afa55a-64c4-4c79-abf0-11723f0cdc15",
   "metadata": {},
   "outputs": [
    {
     "data": {
      "text/plain": [
       "0.15301085446607354"
      ]
     },
     "execution_count": 56,
     "metadata": {},
     "output_type": "execute_result"
    }
   ],
   "source": [
    "n[0,-1]"
   ]
  },
  {
   "cell_type": "code",
   "execution_count": 57,
   "id": "9a6d9d1f-c361-4b6e-b55a-82eacfc39a6a",
   "metadata": {},
   "outputs": [
    {
     "data": {
      "text/plain": [
       "array([0.81786202, 0.53978924, 0.85042899, 0.55810944, 0.19247733])"
      ]
     },
     "execution_count": 57,
     "metadata": {},
     "output_type": "execute_result"
    }
   ],
   "source": [
    "n[0,4:-1]"
   ]
  },
  {
   "cell_type": "code",
   "execution_count": 58,
   "id": "c01fef5c-b4e2-456b-8807-a385a8b50fdd",
   "metadata": {},
   "outputs": [
    {
     "data": {
      "text/plain": [
       "array([0.81786202, 0.53978924, 0.85042899, 0.55810944, 0.19247733,\n",
       "       0.15301085])"
      ]
     },
     "execution_count": 58,
     "metadata": {},
     "output_type": "execute_result"
    }
   ],
   "source": [
    "n[0,4:]"
   ]
  },
  {
   "cell_type": "code",
   "execution_count": 59,
   "id": "7fb2bd8f-905f-4056-b3f4-5c2112220ef5",
   "metadata": {},
   "outputs": [
    {
     "name": "stdout",
     "output_type": "stream",
     "text": [
      "[[ 1.57045216  0.60387372  0.94787853 -0.79776106  1.40837627  0.99286141\n",
      "   1.44742354  1.02623771 -0.03833899 -0.2678085 ]\n",
      " [ 1.0289285  -1.40439382  0.94070167  1.25070459  1.38277879  0.04765716\n",
      "   0.96141178  0.89821859  1.46771852  0.80059165]\n",
      " [ 0.00809229  1.49674667  0.89730479  1.13204108  0.94971019  0.1062031\n",
      "   0.82977108  1.4421671   1.48044011 -1.52842564]\n",
      " [ 0.8382938   1.25241223  0.06607036  0.50875282  0.7120769   1.3962207\n",
      "   0.78831696  0.59861082  1.37002084  1.40692402]\n",
      " [ 1.51443225  1.03364156 -2.97190871  0.46928634  1.54296643  1.10743521\n",
      "  -0.68266146  0.51287481  1.57975816  0.99170354]\n",
      " [ 1.60408391  1.30037194 -0.08128748  1.483542   -0.88936256  1.57995084\n",
      "   1.49785591 -1.68853783  0.5621382   0.70934526]\n",
      " [ 1.10552149  1.19788292  1.58122944  1.19874632  1.41935523  1.33520442\n",
      "   1.10268733 -0.99463009  1.4706529   0.86294841]\n",
      " [ 0.353275    0.95234316  1.45700397 -0.19780755 -0.2147058   0.32296338\n",
      "   1.33835016  0.13354659  1.35008903 -0.09711314]\n",
      " [ 0.76316759  1.01221337  0.13758852  0.16227371  0.90849427  1.15197457\n",
      "   0.27806719  1.44390109  1.39288129  0.27633412]\n",
      " [ 0.03691973  0.76378834  1.18926435  0.78900739  0.28976132 -1.22347654\n",
      "   0.67822098  1.25189314  1.51150821 -0.09791066]]\n"
     ]
    }
   ],
   "source": [
    "an = np.log(n*5)\n",
    "print(an)"
   ]
  },
  {
   "cell_type": "code",
   "execution_count": null,
   "id": "634039b7-fc3c-4955-9329-51fd2419906c",
   "metadata": {},
   "outputs": [],
   "source": []
  }
 ],
 "metadata": {
  "kernelspec": {
   "display_name": "Python 3 (ipykernel)",
   "language": "python",
   "name": "python3"
  },
  "language_info": {
   "codemirror_mode": {
    "name": "ipython",
    "version": 3
   },
   "file_extension": ".py",
   "mimetype": "text/x-python",
   "name": "python",
   "nbconvert_exporter": "python",
   "pygments_lexer": "ipython3",
   "version": "3.11.8"
  }
 },
 "nbformat": 4,
 "nbformat_minor": 5
}
