{
 "cells": [
  {
   "cell_type": "markdown",
   "id": "388c045f-e4fe-4036-b93f-6530f7b19d23",
   "metadata": {},
   "source": [
    "# Modelagem de dispersão\n",
    "neste notebook vamos implemnetar um modelo de dispersao gaussiano"
   ]
  },
  {
   "cell_type": "code",
   "execution_count": 12,
   "id": "93424bf5-d0dd-49b3-8b17-e19e5fa2dc00",
   "metadata": {},
   "outputs": [],
   "source": [
    "#Crianod função de modelo gaussiano\n",
    "\n",
    "import numpy as np\n",
    "def modeloGaussiano(qs,sigmaY,sigmaZ,u,y,z,H):\n",
    "    termo1 = qs/(2*np.pi*sigmaY*sigmaZ*u)\n",
    "    termo2 = np.exp((-y**2)/(2*sigmaY**2))\n",
    "    termo3 = np.exp((-(z-H)**2)/(2*sigmaZ**2)) + np.exp((-(z+H)**2)/(2*sigmaZ**2)) \n",
    "    conc = termo1*termo2*termo3\n",
    "    conc = conc*10**6\n",
    "    return conc #retorno o resultado conc\n"
   ]
  },
  {
   "cell_type": "code",
   "execution_count": 15,
   "id": "60342b45-5ca5-4b95-949c-b740169fe412",
   "metadata": {},
   "outputs": [
    {
     "name": "stdout",
     "output_type": "stream",
     "text": [
      "A concentração estimada é = 86.2052564132534 µg/m³\n"
     ]
    }
   ],
   "source": [
    "#Utilizando a função do modelo gaussiano\n",
    "\n",
    "qs= 100 #g/s\n",
    "sigmaY = 10 #m\n",
    "sigmaZ= 15 #m\n",
    "u=10 #m/s\n",
    "y=0 # estimando na direção do vento\n",
    "z= 1.5 #altura do naris\n",
    "H= 50 #m\n",
    "conc = modeloGaussiano(qs,sigmaY,sigmaZ,u,y,z,H)\n",
    "\n",
    "print( \"A concentração estimada é = \" + str(conc) + ' ' + \"µg/m³\")"
   ]
  },
  {
   "cell_type": "code",
   "execution_count": null,
   "id": "fef3a500-770c-4d5c-a872-496e2b92c30d",
   "metadata": {},
   "outputs": [],
   "source": []
  }
 ],
 "metadata": {
  "kernelspec": {
   "display_name": "Python 3 (ipykernel)",
   "language": "python",
   "name": "python3"
  },
  "language_info": {
   "codemirror_mode": {
    "name": "ipython",
    "version": 3
   },
   "file_extension": ".py",
   "mimetype": "text/x-python",
   "name": "python",
   "nbconvert_exporter": "python",
   "pygments_lexer": "ipython3",
   "version": "3.11.8"
  }
 },
 "nbformat": 4,
 "nbformat_minor": 5
}
